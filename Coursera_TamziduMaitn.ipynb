{
 "cells": [
  {
   "cell_type": "markdown",
   "id": "157c669f",
   "metadata": {},
   "source": [
    "# My Jupyter Notebook on IBM Watson Studio"
   ]
  },
  {
   "cell_type": "markdown",
   "id": "688092f3",
   "metadata": {},
   "source": [
    "__Tamzidul Matin__  \n",
    "Data Scientist"
   ]
  },
  {
   "cell_type": "markdown",
   "id": "0021bee5",
   "metadata": {},
   "source": [
    "_I am in interested in Data Science because it enhances my tool sets for extracting physcial meaning from complex nanoscale phenomena_"
   ]
  },
  {
   "cell_type": "markdown",
   "id": "fbabfe4b",
   "metadata": {},
   "source": [
    "### My code in line 5 is supposed to print a well known energy equation."
   ]
  },
  {
   "cell_type": "code",
   "execution_count": 4,
   "id": "e457701f",
   "metadata": {},
   "outputs": [
    {
     "name": "stdout",
     "output_type": "stream",
     "text": [
      "E=mc^2\n"
     ]
    }
   ],
   "source": [
    "print('E=mc^2')"
   ]
  },
  {
   "cell_type": "markdown",
   "id": "27e5b7d3",
   "metadata": {},
   "source": [
    "Data Science libraries I am interested in:\n",
    "* TensorFlow\n",
    "* Scikit Learn\n",
    "* PyTorch\n",
    "\n",
    "Additional Practice Resources for Data Science:\n",
    "1. Data Camp\n",
    "2. Brilliant\n",
    "\n",
    "~Text that is no longer relevant to this section~"
   ]
  },
  {
   "cell_type": "code",
   "execution_count": null,
   "id": "fb5a8c4e",
   "metadata": {},
   "outputs": [],
   "source": []
  }
 ],
 "metadata": {
  "kernelspec": {
   "display_name": "Python 3",
   "language": "python",
   "name": "python3"
  },
  "language_info": {
   "codemirror_mode": {
    "name": "ipython",
    "version": 3
   },
   "file_extension": ".py",
   "mimetype": "text/x-python",
   "name": "python",
   "nbconvert_exporter": "python",
   "pygments_lexer": "ipython3",
   "version": "3.8.8"
  }
 },
 "nbformat": 4,
 "nbformat_minor": 5
}
